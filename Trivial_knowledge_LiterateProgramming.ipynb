{
 "cells": [
  {
   "cell_type": "markdown",
   "metadata": {},
   "source": [
    "# Literate Programming"
   ]
  },
  {
   "cell_type": "markdown",
   "metadata": {},
   "source": [
    "## Ref:\n",
    "[Markdown for Jupyter notebooks cheatsheet](https://medium.com/ibm-data-science-experience/markdown-for-jupyter-notebooks-cheatsheet-386c05aeebed)<br>\n",
    "[Markdown 语法 示例 字体 字号 颜色](https://blog.csdn.net/u011419965/article/details/50536937#%E4%B8%80%E7%BA%A7%E6%A0%87%E9%A2%98)"
   ]
  },
  {
   "cell_type": "markdown",
   "metadata": {},
   "source": [
    "- This is \n",
    " + unordered list\n",
    "---\n",
    "1. Above is line break\n",
    "2. This is \n",
    " 2. ordered list"
   ]
  },
  {
   "cell_type": "markdown",
   "metadata": {},
   "source": [
    "3. Section\n",
    "# This is title\n",
    "## This is major headings\n",
    "### This is subheadings\n",
    "#### This is 4th level subheadings\n",
    "##### This is 5th level subheeadings\n",
    "###### This is 6th level subheeadings\n",
    "4. This is changing <font color=pink>colors</font> <font face='Papyrus'>font</font> and <font size=5>size</font>\n",
    "5. This is<br> line break<br>\n",
    "6. This is **enphasise**<br>\n",
    "7. >This is a quote \n",
    "    >> inside a quote<br>\n",
    "8. This is a link of [Google](https://www.google.com/)\n",
    "9. Below is code inside markdown\n",
    "``` python\n",
    "import matplotlib ```\n",
    "10. This is <u> underline </u>\n",
    "11. This is ~~delete mark~~\n",
    "---\n",
    "<font face='Papyrus'>Edited on 060220 by Lei Gao</font> "
   ]
  },
  {
   "cell_type": "code",
   "execution_count": null,
   "metadata": {},
   "outputs": [],
   "source": []
  }
 ],
 "metadata": {
  "kernelspec": {
   "display_name": "Python 3",
   "language": "python",
   "name": "python3"
  },
  "language_info": {
   "codemirror_mode": {
    "name": "ipython",
    "version": 3
   },
   "file_extension": ".py",
   "mimetype": "text/x-python",
   "name": "python",
   "nbconvert_exporter": "python",
   "pygments_lexer": "ipython3",
   "version": "3.7.3"
  }
 },
 "nbformat": 4,
 "nbformat_minor": 4
}
