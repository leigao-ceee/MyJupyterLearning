{
 "cells": [
  {
   "cell_type": "markdown",
   "metadata": {},
   "source": [
    "# Literate Programming"
   ]
  },
  {
   "cell_type": "markdown",
   "metadata": {},
   "source": [
    "## Ref:\n",
    "[Markdown for Jupyter notebooks cheatsheet](https://medium.com/ibm-data-science-experience/markdown-for-jupyter-notebooks-cheatsheet-386c05aeebed)<br>\n",
    "[Markdown 语法 示例 字体 字号 颜色](https://blog.csdn.net/u011419965/article/details/50536937#%E4%B8%80%E7%BA%A7%E6%A0%87%E9%A2%98)"
   ]
  },
  {
   "cell_type": "markdown",
   "metadata": {},
   "source": [
    "- This is \n",
    " + unordered list\n",
    "---\n",
    "1. Above is line break\n",
    "2. This is \n",
    " 2. ordered list"
   ]
  },
  {
   "cell_type": "markdown",
   "metadata": {},
   "source": [
    "3. Section\n",
    "# This is title\n",
    "## This is major headings\n",
    "### This is subheadings\n",
    "#### This is 4th level subheadings\n",
    "##### This is 5th level subheeadings\n",
    "###### This is 6th level subheeadings\n",
    "4. This is changing <font color=pink>colors</font> <font face='Papyrus'>font</font> and <font size=5>size</font>\n",
    "5. This is<br> line break<br>\n",
    "6. This is **enphasise**<br>\n",
    "7. >This is a quote \n",
    "    >> inside a quote<br>\n",
    "8. This is a link of [Google](https://www.google.com/)\n",
    "9. Below is code inside markdown\n",
    "``` python\n",
    "import matplotlib ```\n",
    "10. This is <u> underline </u>\n",
    "11. This is ~~delete mark~~\n",
    "---\n",
    "<font face='Papyrus'>Edited on 060220 by Lei Gao</font> "
   ]
  },
  {
   "cell_type": "markdown",
   "metadata": {},
   "source": [
    "## 1. Thermodynamic\n",
    "    This section instruct the basic and useful thermodynamic package like CoolProp etc.\n",
    "### 1.1 CoolProp\n",
    "#### 1.1.1 high level usage\n",
    "```python\n",
    "import CoolProp.CoolProp as CP\n",
    "CP.PropsSI(\"T\",\"P\",101325,\"Q\",0,\"R22\")```\n",
    "---\n",
    "<font face='Papyrus'>Edited on 060220 by Lei Gao</font> "
   ]
  },
  {
   "cell_type": "markdown",
   "metadata": {},
   "source": [
    "## 2. Postprocess"
   ]
  },
  {
   "cell_type": "markdown",
   "metadata": {},
   "source": [
    "### 2.1 Matplotlib\n",
    "#### 2.1.1 General Concepts\n",
    "##### Ref:  \n",
    "[v1.5.1](https://matplotlib.org/1.5.1/faq/usage_faq.html#parts-of-a-figure)  \n",
    "[v3.1.1](https://matplotlib.org/3.1.1/tutorials/introductory/usage.html)\n",
    "\n",
    "![Figure Concepts](https://matplotlib.org/1.5.1/_images/fig_map.png)\n",
    "\n",
    "1.  [*__Figure:__*](https://matplotlib.org/3.1.1/api/_as_gen/matplotlib.figure.Figure.html#matplotlib.figure.Figure)<br>\n",
    "    >The figure keeps track of all the child Axes, a smattering of 'special' artists (titles, figure legends, etc), and the canvas. (Don't worry too much about the canvas, it is crucial as it is the object that actually does the drawing to get you your plot, but as the user it is more-or-less invisible to you). A figure can have any number of Axes, but to be useful should have at least one.\n",
    "2. [*__Axes:__*](https://matplotlib.org/3.1.1/api/axes_api.html#matplotlib.axes.Axes)<br>\n",
    "    >A given figure can contain many Axes, but a given Axes object can only be in one Figure. The Axes contains two (or three in the case of 3D) Axis objects (be aware of the difference between Axes and Axis) which take care of the data limits (the data limits can also be controlled via set via the **set_xlim()** and **set_ylim()** Axes methods). Each Axes has a title (set via **set_title()**), an x-label (set via **set_xlabel()**), and a y-label set via **set_ylabel()**).\n",
    "3. [*__Axis:__*](https://matplotlib.org/3.2.1/api/axis_api.html)<br>\n",
    "    >These are the number-line-like objects. They take care of setting the graph limits and generating the ticks (the marks on the axis) and ticklabels (strings labeling the ticks). The location of the ticks is determined by a **Locator** object and the ticklabel strings are formatted by a **Formatter**. The combination of the correct Locator and Formatter gives very fine control over the tick locations and labels.\n",
    "4. [*__Artist:__*](https://matplotlib.org/3.2.1/api/artist_api.html)<br>\n",
    "    >Basically everything you can see on the figure is an artist (even the Figure, Axes, and Axis objects). This includes **Text** objects, **Line2D** objects, **collection** objects, **Patch** objects ... (you get the idea). When the figure is rendered, all of the artists are drawn to the **canvas**. Most Artists are tied to an Axes; such an Artist cannot be shared by multiple Axes, or moved from one to another.  \n",
    "5. *__Recommendation:__*<br>\n",
    "    plt.plot will automatically create figure and axes with necessary elements, however, encounter finer tuning problem <br>\n",
    "    5.1. Use <u>**[plt.subplot(s)](https://matplotlib.org/3.1.1/api/_as_gen/matplotlib.pyplot.subplots.html#matplotlib.pyplot.subplots)**</u> instead **~~plt.plot~~**<br>\n",
    "    5.2. Check method in Axes, if no method satisfy your need then check Axis and Artist<br>\n",
    "    5.3. Some useful class in Artist, [*__Patch__*](https://matplotlib.org/3.2.1/api/_as_gen/matplotlib.patches.Patch.html#matplotlib.patches.Patch)"
   ]
  },
  {
   "cell_type": "markdown",
   "metadata": {},
   "source": [
    "#### *__2.1.2 Method__*\n",
    "Ref: [matplotlib API篇](https://blog.mazhangjing.com/2018/02/28/learn_matplotlib/)<br>\n",
    "Call subplots return: [Figure](https://matplotlib.org/3.1.1/api/_as_gen/matplotlib.figure.Figure.html#matplotlib.figure.Figure) & [axes.Axes](https://matplotlib.org/3.2.1/api/axes_api.html) object or array of Axes objects<br>\n",
    "```python\n",
    "##################### figure\n",
    "########### create figure as normalized grid\n",
    "#### at one time\n",
    "fig, ax = plt.subplots(2,2, figsize=[25, 15])\n",
    "import matplotlib.pyplot as plt\n",
    "#### as added\n",
    "fig = plt.figure(figsize=[10, 5])\n",
    "fig.add_subplot(212)\n",
    "########### create axes as customized grid\n",
    "fig1 = plt.figure(figsize=[10, 5])\n",
    "gs1 = gridspec.GridSpec(ncols=2, nrows=2, figure=fig1)\n",
    "ax1 = fig2.add_subplot(gs1[0, 0])\n",
    "## way 2\n",
    "fig2 = plt.figure(figsize=[10, 5])\n",
    "gs2 = fig1.add_gridspec(ncols=2, nrows=2, width_ratios=[5, 5, 6], height_ratios=[1, 1, 1])\n",
    "ax2 = fig.add_subplot(gs2[0, 0])\n",
    "## way 3.1 ()\n",
    "gs_kw = dict(width_ratios=widths, height_ratios=heights)\n",
    "fig6, f6_axes = plt.subplots(ncols=3, nrows=3, constrained_layout=True,\n",
    "        gridspec_kw=gs_kw)\n",
    "## way 3.2\n",
    "# abnormal shape\n",
    "fig7, f7_axs = plt.subplots(ncols=3, nrows=3)\n",
    "gs = f7_axs[1, 2].get_gridspec()\n",
    "# remove the underlying axes\n",
    "for ax in f7_axs[1:, -1]:\n",
    "    ax.remove()\n",
    "axbig = fig7.add_subplot(gs[1:, -1])\n",
    "########## fine tune the layout by wspace and hspace\n",
    "# way 1\n",
    "gs1 = fig9.add_gridspec(nrows=3, ncols=3, left=0.05, right=0.48,\n",
    "                        wspace=0.05)\n",
    "# for normal shape\n",
    "fig.subplots_adjust\n",
    "#\n",
    "```\n",
    "> Note that we have also used the convenience method Figure.add_gridspec instead of gridspec.GridSpec, potentially saving the user an import, and keeping the namespace cleaner.\n",
    "\n",
    "```python\n",
    "##################### axes.Axes based\n",
    "########### axis\n",
    "ax.yaxis.set_label_position('right')\n",
    "ax.yaxis.tick_right()\n",
    "########### label\n",
    "ax.set_xlabel(xlabel, fontdict=None, labelpad=None) **kwargs: Text properties\n",
    "ax.get_ylabel()\n",
    "########### ticks\n",
    "ax.set_xticks()\n",
    "ax.get_yticks\n",
    "ax.set_xticklabels\n",
    "ax.get_yticklabels\n",
    "########## legend\n",
    "ax.legend(loc='best')\n",
    "ax.get_legend_handles_labels(legend_handler_map=None)\n",
    "########### title\n",
    "ax.set_title(label, fontdict=None, loc=None, pad=None) **kwargs: Text properties\n",
    "ax.get_title()\n",
    "font: \n",
    "    {'fontsize': rcParams['axes.titlesize'],\n",
    "     'fontweight' : rcParams['axes.titleweight'],\n",
    "     'color' : rcParams['axes.titlecolor'],\n",
    "     'verticalalignment': 'baseline',\n",
    "     'horizontalalignment': loc}\n",
    "loc : \n",
    "    {'center', 'left', 'right'}, str, optional\n",
    "########### others\n",
    "ax.secondary_xaxis()\n",
    "ax.text(x, y, s, fontdict=None, withdash=False, **kwargs)\n",
    "GridSpec(nrows, ncols, figure=None, left=None, bottom=None, right=None, top=None, wspace=None, hspace=None, width_ratios=None, height_ratios=None)\n",
    "fig.gca()\n",
    "ax.fill_between\n",
    "########################### text\n",
    "text.Text(x=0, y=0, text='', color=None, verticalalignment='baseline', horizontalalignment='left', multialignment=None, fontproperties=None, rotation=None, linespacing=None, rotation_mode=None, usetex=None, wrap=False, **kwargs)\n",
    "########################### maplotlib.plot / plt\n",
    "plt.tight_layout()\n",
    "```"
   ]
  },
  {
   "cell_type": "markdown",
   "metadata": {},
   "source": []
  },
  {
   "cell_type": "markdown",
   "metadata": {},
   "source": [
    "###### Specific Usage\n",
    "1. Delete or hide some text<br>\n",
    "```python\n",
    "## no legend title\n",
    "ax.legend(handles=handles, labels=labels)\n",
    "handles, labels = ax.get_legend_handles_labels() \n",
    "# no legend\n",
    "ax.get_legend().remove() \n",
    "ax.legend().set_title('')\n",
    "# hide box outlier\n",
    "ax.spines[\"right\"].set_visible(False)\n",
    "```\n",
    "2. Change location\n",
    "```python\n",
    "ax.yaxis.set_label_position('right')\n",
    "```\n",
    "3. Add figure into exist ax\n",
    "```python\n",
    "fig.add_axes([0.5, 0.5, 0.5, 0.5])\n",
    "ax.inset_axes([0.8, 0.1, 0.15, 0.15])\n",
    "```\n",
    "4. Generate self-defined layout of subplots by grid method\n",
    "``` python\n",
    "fig = plt.figure()\n",
    "gs = GridSpec(3,3)\n",
    "main = fig.add_subplot(gs[1:,1:])\n",
    "hist = fig.add_subplot(gs[1:,0:1])\n",
    "hist_x = fig.add_subplot(gs[0:1,1:])\n",
    "```\n",
    "5. Set color bar\n",
    "``` python\n",
    "cbar = ax3.figure.colorbar(ax3.collections[0])\n",
    "cbar.ax.set_yticklabels(np.round(np.arange(0, 1.2, 0.2), decimals=3), size=10, family='Times New Roman')\n",
    "```"
   ]
  },
  {
   "cell_type": "markdown",
   "metadata": {},
   "source": [
    "### 2.2 Seaborn"
   ]
  },
  {
   "cell_type": "code",
   "execution_count": 1,
   "metadata": {
    "scrolled": false
   },
   "outputs": [
    {
     "data": {
      "application/vnd.jupyter.widget-view+json": {
       "model_id": "5a1efd1705714e61b4403cd97271e6ef",
       "version_major": 2,
       "version_minor": 0
      },
      "text/plain": [
       "interactive(children=(Dropdown(description='name', options=('Set1', 'Set2', 'Set3', 'Paired', 'Accent', 'Paste…"
      ]
     },
     "metadata": {},
     "output_type": "display_data"
    },
    {
     "data": {
      "application/vnd.jupyter.widget-view+json": {
       "model_id": "1b6f980f35c44db8bb2e1e78d766fa30",
       "version_major": 2,
       "version_minor": 0
      },
      "text/plain": [
       "interactive(children=(Dropdown(description='name', options=('Greys', 'Reds', 'Greens', 'Blues', 'Oranges', 'Pu…"
      ]
     },
     "metadata": {},
     "output_type": "display_data"
    },
    {
     "data": {
      "application/vnd.jupyter.widget-view+json": {
       "model_id": "01fd1c915bb746299d4d4e11d06ea825",
       "version_major": 2,
       "version_minor": 0
      },
      "text/plain": [
       "interactive(children=(Dropdown(description='name', options=('RdBu', 'RdGy', 'PRGn', 'PiYG', 'BrBG', 'RdYlBu', …"
      ]
     },
     "metadata": {},
     "output_type": "display_data"
    }
   ],
   "source": [
    "import seaborn as sns\n",
    "sns_type = [\"qualitative\", \"sequential\", \"diverging\"]\n",
    "for elem in sns_type:\n",
    "    sns.choose_colorbrewer_palette(elem)"
   ]
  },
  {
   "cell_type": "code",
   "execution_count": null,
   "metadata": {},
   "outputs": [],
   "source": []
  }
 ],
 "metadata": {
  "kernelspec": {
   "display_name": "Python 3",
   "language": "python",
   "name": "python3"
  },
  "language_info": {
   "codemirror_mode": {
    "name": "ipython",
    "version": 3
   },
   "file_extension": ".py",
   "mimetype": "text/x-python",
   "name": "python",
   "nbconvert_exporter": "python",
   "pygments_lexer": "ipython3",
   "version": "3.7.3"
  }
 },
 "nbformat": 4,
 "nbformat_minor": 4
}
